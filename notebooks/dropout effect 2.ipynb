{
 "cells": [
  {
   "cell_type": "code",
   "execution_count": 1,
   "metadata": {},
   "outputs": [
    {
     "name": "stderr",
     "output_type": "stream",
     "text": [
      "Using TensorFlow backend.\n"
     ]
    },
    {
     "data": {
      "text/plain": [
       "('tf', '1.9.0', 'Keras', '2.2.2')"
      ]
     },
     "execution_count": 1,
     "metadata": {},
     "output_type": "execute_result"
    }
   ],
   "source": [
    "import tensorflow as tf\n",
    "#from tensorflow import keras\n",
    "import keras # if installed directly\n",
    "import numpy as np\n",
    "#!pip install livelossplot --quiet # library to plot training logs\n",
    "#from livelossplot import PlotLossesKeras\n",
    "\n",
    "\"tf\", tf.__version__, \"Keras\", keras.__version__"
   ]
  },
  {
   "cell_type": "markdown",
   "metadata": {},
   "source": [
    "Loading in a dataset:"
   ]
  },
  {
   "cell_type": "code",
   "execution_count": 30,
   "metadata": {},
   "outputs": [
    {
     "name": "stdout",
     "output_type": "stream",
     "text": [
      "x_train shape: (60000, 28, 28, 1)\n",
      "60000 train samples\n",
      "10000 test samples\n"
     ]
    }
   ],
   "source": [
    "# input image dimensions\n",
    "img_rows, img_cols = 28, 28\n",
    "\n",
    "# the data, split between train and test sets\n",
    "(x_train, y_train), (x_test, y_test) = keras.datasets.mnist.load_data()\n",
    "\n",
    "x_train = x_train.reshape(x_train.shape[0], img_rows, img_cols, 1)\n",
    "x_test = x_test.reshape(x_test.shape[0], img_rows, img_cols, 1)\n",
    "input_shape = (img_rows, img_cols, 1)\n",
    "\n",
    "# simple norm\n",
    "x_train = x_train.astype('float32')\n",
    "x_test = x_test.astype('float32')\n",
    "x_train /= 255\n",
    "x_test /= 255\n",
    "\n",
    "print('x_train shape:', x_train.shape)\n",
    "print(x_train.shape[0], 'train samples')\n",
    "print(x_test.shape[0], 'test samples')"
   ]
  },
  {
   "cell_type": "code",
   "execution_count": 31,
   "metadata": {},
   "outputs": [],
   "source": [
    "from keras.models import Sequential\n",
    "from keras.layers import Dense, Flatten, Dropout, BatchNormalization\n",
    "from keras.layers import Conv2D, MaxPooling2D\n",
    "from keras.callbacks import EarlyStopping\n",
    "from keras.preprocessing.image import ImageDataGenerator"
   ]
  },
  {
   "cell_type": "code",
   "execution_count": 32,
   "metadata": {},
   "outputs": [],
   "source": [
    "#data augmentation\n",
    "datagen = ImageDataGenerator(\n",
    "    rotation_range=10,\n",
    "    width_shift_range=0.05,\n",
    "    height_shift_range=0.05,\n",
    "    horizontal_flip=True,\n",
    "    )\n",
    "datagen.fit(x_train, augment=False)"
   ]
  },
  {
   "cell_type": "code",
   "execution_count": 39,
   "metadata": {},
   "outputs": [],
   "source": [
    "def make_model(dropout=0.0):\n",
    "    model = Sequential()\n",
    "\n",
    "    model.add(Conv2D(28, (3, 3), padding='same', activation='relu', \n",
    "                   input_shape=(28, 28, 1)))\n",
    "    #model.add(BatchNormalization())\n",
    "    model.add(Conv2D(28, (3, 3), activation='relu'))\n",
    "    #model.add(BatchNormalization())\n",
    "    model.add(MaxPooling2D(pool_size=(2, 2)))\n",
    "    if dropout > 0: model.add(Dropout(dropout))\n",
    "\n",
    "    model.add(Conv2D(56, (3, 3), padding='same', activation='relu'))\n",
    "    #model.add(BatchNormalization())\n",
    "    model.add(Conv2D(56, (3, 3), activation='relu'))\n",
    "    #model.add(BatchNormalization())\n",
    "    model.add(MaxPooling2D(pool_size=(2, 2)))\n",
    "    if dropout > 0: model.add(Dropout(dropout))\n",
    "\n",
    "    model.add(Flatten())\n",
    "    model.add(Dense(512, activation='relu'))\n",
    "    if dropout > 0: model.add(Dropout(0.5))\n",
    "\n",
    "    model.add(Dense(10, activation='softmax'))\n",
    "\n",
    "    model.compile(optimizer='Adam',\n",
    "               loss = 'sparse_categorical_crossentropy',\n",
    "               metrics=['accuracy'])\n",
    "\n",
    "    return model"
   ]
  },
  {
   "cell_type": "code",
   "execution_count": null,
   "metadata": {},
   "outputs": [
    {
     "name": "stdout",
     "output_type": "stream",
     "text": [
      "Running model with dropout 0.0\n",
      "Train on 60000 samples, validate on 10000 samples\n",
      "Epoch 1/20\n",
      "60000/60000 [==============================] - 304s 5ms/step - loss: 0.1027 - acc: 0.9680 - val_loss: 0.0402 - val_acc: 0.9866\n",
      "Epoch 2/20\n",
      "60000/60000 [==============================] - 269s 4ms/step - loss: 0.0358 - acc: 0.9893 - val_loss: 0.0365 - val_acc: 0.9885\n",
      "Epoch 3/20\n",
      "29728/60000 [=============>................] - ETA: 1:55 - loss: 0.0252 - acc: 0.9925"
     ]
    }
   ],
   "source": [
    "dropouts = [0.0, 0.2, 0.4, 0.6]\n",
    "history = []\n",
    "\n",
    "for dropout in dropouts:\n",
    "    model = make_model(dropout)\n",
    "    print(f\"Running model with dropout {dropout}\")\n",
    "    \n",
    "    hist = model.fit(x_train, y_train, \n",
    "                    epochs=20, validation_data=(x_test, y_test), \n",
    "                    callbacks=[EarlyStopping(patience=4)])\n",
    "    \n",
    "    print(f\"Model with dropout {dropout} finished with {max(hist.history['val_acc'])} accuracy\")\n",
    "    history.append(hist)"
   ]
  },
  {
   "cell_type": "code",
   "execution_count": null,
   "metadata": {},
   "outputs": [],
   "source": [
    "import matplotlib.pyplot as plt\n",
    "%matplotlib inline\n",
    "\n",
    "colors = [\"C\"+str(i) for i in range(5)]\n",
    "fig = plt.figure(figsize=(14,10))\n",
    "plt.title('model accuracy')\n",
    "plt.ylabel('accuracy')\n",
    "plt.xlabel('epoch')\n",
    "\n",
    "for dropout, hist, color in zip(dropouts, history, colors):\n",
    "  plt.plot(hist.history['acc'], label=f\"dropout_{dropout:.1f} \", ls=\"dashed\", lw=2, alpha=0.6, c=color)\n",
    "  plt.plot(hist.history['val_acc'], label=f\"dropout_{dropout:.1f} Acc{max(hist.history['val_acc']):.2f}\", ls=\"solid\", lw=3, alpha=0.8, c=color)\n",
    "  \n",
    "plt.legend()\n",
    "plt.show()"
   ]
  },
  {
   "cell_type": "code",
   "execution_count": null,
   "metadata": {},
   "outputs": [],
   "source": [
    "fig = plt.figure(figsize=(14,10))\n",
    "plt.title('model loss')\n",
    "plt.ylabel('loss')\n",
    "plt.xlabel('epoch')\n",
    "\n",
    "for dropout, hist in zip(dropouts, history):\n",
    "  plt.plot(hist.history['loss'], label=f\"dropout_{dropout:.1f}\", ls=\"dashed\", lw=2, alpha=0.5)\n",
    "  plt.plot(hist.history['val_loss'], label=f\"dropout_{dropout:.1f}\", ls=\"solid\", lw=3, alpha=0.8)\n",
    "  \n",
    "plt.legend()\n",
    "plt.show()"
   ]
  },
  {
   "cell_type": "code",
   "execution_count": null,
   "metadata": {},
   "outputs": [],
   "source": []
  }
 ],
 "metadata": {
  "kernelspec": {
   "display_name": "Python 3",
   "language": "python",
   "name": "python3"
  },
  "language_info": {
   "codemirror_mode": {
    "name": "ipython",
    "version": 3
   },
   "file_extension": ".py",
   "mimetype": "text/x-python",
   "name": "python",
   "nbconvert_exporter": "python",
   "pygments_lexer": "ipython3",
   "version": "3.6.6"
  }
 },
 "nbformat": 4,
 "nbformat_minor": 2
}
